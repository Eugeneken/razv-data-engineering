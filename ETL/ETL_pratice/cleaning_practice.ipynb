{
 "cells": [
  {
   "cell_type": "markdown",
   "metadata": {},
   "source": [
    "# Cleaning: Udacity's Course Catalog\n",
    "\n",
    "In this activity, we will use the BeautifulSoup library to extract the following information from each course listed on the page:\n",
    "1. The course name - e.g. \"Data Analyst\"\n",
    "2. The school the course belongs to - e.g. \"School of Data Science\""
   ]
  },
  {
   "cell_type": "markdown",
   "metadata": {},
   "source": [
    "### Step 1: Get text from Udacity's course catalog web page\n",
    "We can use the `requests` library to do this."
   ]
  },
  {
   "cell_type": "code",
   "execution_count": 32,
   "metadata": {},
   "outputs": [],
   "source": [
    "# import\n",
    "import requests\n",
    "from bs4 import BeautifulSoup"
   ]
  },
  {
   "cell_type": "code",
   "execution_count": 22,
   "metadata": {},
   "outputs": [],
   "source": [
    "# fetch web page\n",
    "r = requests.get('https://www.udacity.com/courses/all')"
   ]
  },
  {
   "cell_type": "markdown",
   "metadata": {},
   "source": [
    "### Step 2: Use BeautifulSoup to remove HTML tags\n",
    "Use `\"lxml\"`."
   ]
  },
  {
   "cell_type": "code",
   "execution_count": 23,
   "metadata": {},
   "outputs": [],
   "source": [
    "soup = BeautifulSoup(r.text, \"lxml\")"
   ]
  },
  {
   "cell_type": "markdown",
   "metadata": {},
   "source": [
    "### Step 3: Find all course summaries\n",
    "Use the BeautifulSoup's `find_all` method to select based on tag type and class name."
   ]
  },
  {
   "cell_type": "code",
   "execution_count": 24,
   "metadata": {},
   "outputs": [
    {
     "name": "stdout",
     "output_type": "stream",
     "text": [
      "Number of Courses: 253\n"
     ]
    }
   ],
   "source": [
    "# Find all course summaries\n",
    "summaries = soup.find_all('div', class_=\"_catalog-card-lemur_body__1-oK_\")\n",
    "print('Number of Courses:', len(summaries))"
   ]
  },
  {
   "cell_type": "markdown",
   "metadata": {},
   "source": [
    "### Step 4: Inspect the first summary to find selectors for the course name and school\n",
    "Tip: `.prettify()` is a super helpful method BeautifulSoup provides to output html in a nicely indented form! Make sure to use `print()` to ensure whitespace is displayed properly."
   ]
  },
  {
   "cell_type": "code",
   "execution_count": 26,
   "metadata": {},
   "outputs": [
    {
     "name": "stdout",
     "output_type": "stream",
     "text": [
      "<div class=\"_catalog-card-lemur_body__1-oK_\">\n",
      " <div>\n",
      "  <ul class=\"_catalog-card-lemur_featureFlagContainer__979NY\" data-mobileonly=\"false\">\n",
      "   <li data-type=\"new\">\n",
      "    <small>\n",
      "     New\n",
      "    </small>\n",
      "   </li>\n",
      "  </ul>\n",
      "  <h2>\n",
      "   Data Engineer\n",
      "  </h2>\n",
      "  <h3>\n",
      "   School of Data Science\n",
      "  </h3>\n",
      "  <div class=\"_catalog-card-lemur_reviews__2nBv7\" data-mobileonly=\"true\">\n",
      "   <div class=\"nd-rating-stars m--small\">\n",
      "    <div class=\"active-stars\" style=\"width:91.04364326375712%\">\n",
      "    </div>\n",
      "   </div>\n",
      "   <small>\n",
      "    1054\n",
      "    <!-- -->\n",
      "    reviews\n",
      "   </small>\n",
      "  </div>\n",
      "  <p>\n",
      "   Data Engineering is the foundation for the new world of Big Data. Enroll now to build production-ready data infrastructure, an essential skill for advancing your data career.\n",
      "  </p>\n",
      " </div>\n",
      " <ul class=\"_catalog-card-lemur_stats__3ASYn\">\n",
      "  <li data-level=\"intermediate\">\n",
      "   intermediate\n",
      "  </li>\n",
      "  <li data-duration=\"\">\n",
      "   5 Months\n",
      "  </li>\n",
      "  <li>\n",
      "   <div class=\"_catalog-card-lemur_reviews__2nBv7\" data-mobileonly=\"false\">\n",
      "    <div class=\"nd-rating-stars m--small\">\n",
      "     <div class=\"active-stars\" style=\"width:91.04364326375712%\">\n",
      "     </div>\n",
      "    </div>\n",
      "    <small>\n",
      "     1054\n",
      "     <!-- -->\n",
      "     reviews\n",
      "    </small>\n",
      "   </div>\n",
      "  </li>\n",
      " </ul>\n",
      " <div class=\"_catalog-card-lemur_overview__3vHct\">\n",
      "  <section>\n",
      "   <h4>\n",
      "    Skills Covered\n",
      "   </h4>\n",
      "   <p>\n",
      "    Data Modeling, Data Pipelines, Data Lakes, Spark, Airflow\n",
      "   </p>\n",
      "  </section>\n",
      "  <section>\n",
      "   <h4>\n",
      "    Prerequisites\n",
      "   </h4>\n",
      "   <p>\n",
      "    Intermediate Python &amp; SQL\n",
      "   </p>\n",
      "  </section>\n",
      " </div>\n",
      "</div>\n",
      "\n"
     ]
    }
   ],
   "source": [
    "# print the first summary in summaries\n",
    "print(summaries[0].prettify())"
   ]
  },
  {
   "cell_type": "markdown",
   "metadata": {},
   "source": [
    "Look for selectors that contain the title of the courses and the text of the school name that you want to extract. In this case the information we are looking for is in selectors < h2 > and < h3 >."
   ]
  },
  {
   "cell_type": "code",
   "execution_count": 27,
   "metadata": {},
   "outputs": [
    {
     "data": {
      "text/plain": [
       "'Data Engineer'"
      ]
     },
     "execution_count": 27,
     "metadata": {},
     "output_type": "execute_result"
    }
   ],
   "source": [
    "# Extract course title\n",
    "summaries[0].select_one(\"h2\").get_text().strip()"
   ]
  },
  {
   "cell_type": "code",
   "execution_count": 28,
   "metadata": {},
   "outputs": [
    {
     "data": {
      "text/plain": [
       "'School of Data Science'"
      ]
     },
     "execution_count": 28,
     "metadata": {},
     "output_type": "execute_result"
    }
   ],
   "source": [
    "# Extract school\n",
    "summaries[0].select_one(\"h3\").get_text().strip()"
   ]
  },
  {
   "cell_type": "markdown",
   "metadata": {},
   "source": [
    "### Step 5: Collect names and schools of ALL course listings"
   ]
  },
  {
   "cell_type": "code",
   "execution_count": 30,
   "metadata": {},
   "outputs": [],
   "source": [
    "courses = []\n",
    "for summary in summaries:\n",
    "    title = summary.select_one(\"h2\").get_text().strip()\n",
    "    school = summary.select_one(\"h3\").get_text().strip()\n",
    "    courses.append((title, school))"
   ]
  },
  {
   "cell_type": "code",
   "execution_count": 31,
   "metadata": {},
   "outputs": [
    {
     "name": "stdout",
     "output_type": "stream",
     "text": [
      "253 course summaries found. Sample:\n"
     ]
    },
    {
     "data": {
      "text/plain": [
       "[('Data Engineer', 'School of Data Science'),\n",
       " ('Digital Marketing', 'School of Business'),\n",
       " ('Introduction to Programming', 'School of Programming & Development'),\n",
       " ('Business Analytics', 'School of Business'),\n",
       " ('Data Scientist', 'School of Data Science'),\n",
       " ('Programming for Data Science with Python', 'School of Data Science'),\n",
       " ('Data Analyst', 'School of Data Science'),\n",
       " ('Product Manager', 'School of Business'),\n",
       " ('UX Designer', 'School of Business'),\n",
       " ('Front End Web Developer', 'School of Programming & Development'),\n",
       " ('Artificial Intelligence for Trading', 'School of Artificial Intelligence'),\n",
       " ('AI Programming with Python', 'School of Artificial Intelligence'),\n",
       " ('Machine Learning Engineer', 'School of Artificial Intelligence'),\n",
       " ('Full Stack Web Developer', 'School of Programming & Development'),\n",
       " ('Deep Learning', 'School of Artificial Intelligence'),\n",
       " ('Self Driving Car Engineer', 'School of Autonomous Systems'),\n",
       " ('C++', 'School of Autonomous Systems'),\n",
       " ('Data Structures and Algorithms', 'School of Programming & Development'),\n",
       " ('Data Product Manager', 'School of Business'),\n",
       " ('SQL', 'School of Data Science')]"
      ]
     },
     "execution_count": 31,
     "metadata": {},
     "output_type": "execute_result"
    }
   ],
   "source": [
    "# display results\n",
    "print(len(courses), \"course summaries found. Sample:\")\n",
    "courses[:20]"
   ]
  },
  {
   "cell_type": "code",
   "execution_count": null,
   "metadata": {},
   "outputs": [],
   "source": []
  }
 ],
 "metadata": {
  "kernelspec": {
   "display_name": "Python 3",
   "language": "python",
   "name": "python3"
  },
  "language_info": {
   "codemirror_mode": {
    "name": "ipython",
    "version": 3
   },
   "file_extension": ".py",
   "mimetype": "text/x-python",
   "name": "python",
   "nbconvert_exporter": "python",
   "pygments_lexer": "ipython3",
   "version": "3.7.4"
  }
 },
 "nbformat": 4,
 "nbformat_minor": 2
}
