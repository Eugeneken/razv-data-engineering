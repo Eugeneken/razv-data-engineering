{
 "cells": [
  {
   "attachments": {},
   "cell_type": "markdown",
   "metadata": {},
   "source": [
    "##### For complex data analytics, we won't deal only with simple or basic data types. Our data will be complex, often structured or nested, and we need Spark to handle these complex data types. They come in many forms: maps, arrays, struct, dates, timestamps, fields, etc."
   ]
  },
  {
   "attachments": {},
   "cell_type": "markdown",
   "metadata": {},
   "source": [
    "https://spark.apache.org/docs/latest/sql-ref-datatypes.html"
   ]
  },
  {
   "cell_type": "code",
   "execution_count": 3,
   "metadata": {},
   "outputs": [],
   "source": [
    "import pyspark\n",
    "from pyspark.sql import SparkSession\n",
    "from pyspark.sql.types import StructType, StructField, StringType, ArrayType"
   ]
  },
  {
   "cell_type": "code",
   "execution_count": 4,
   "metadata": {},
   "outputs": [
    {
     "name": "stderr",
     "output_type": "stream",
     "text": [
      "Setting default log level to \"WARN\".\n",
      "To adjust logging level use sc.setLogLevel(newLevel). For SparkR, use setLogLevel(newLevel).\n"
     ]
    },
    {
     "name": "stdout",
     "output_type": "stream",
     "text": [
      "23/05/23 22:03:46 WARN NativeCodeLoader: Unable to load native-hadoop library for your platform... using builtin-java classes where applicable\n"
     ]
    }
   ],
   "source": [
    "spark = SparkSession.builder.appName(\"StructType\").getOrCreate()"
   ]
  },
  {
   "cell_type": "code",
   "execution_count": 5,
   "metadata": {},
   "outputs": [],
   "source": [
    "# Defining data\n",
    "data = [\n",
    "    (\"123456\", (\"name\", \"lastname\", \"age\", \"review\"), (\"James\", \"Smith\", \"28\", \"7\"), \"20230523\"),\n",
    "    (\"123456\", (\"name\", \"lastname\", \"age\", \"review\"), (\"Robert\", \"Williams\", \"32\", \"5\"), \"20230401\"),\n",
    "    (\"123456\", (\"name\", \"lastname\", \"age\", \"review\"), (\"Maria\", \"Anne\", \"25\", \"9\"), \"20230215\"),\n",
    "    (\"123457\", (\"name\", \"lastname\", \"age\", \"review\"), (\"Jen\", \"\", \"40\", \"4\"), \"20230122\"),\n",
    "    (\"123458\", (\"name\", \"lastname\", \"age\", \"review\"), (\"Michael\", \"Jones\", \"\", \"8\"), \"20230517\"),\n",
    "    (\"123458\", (\"name\", \"lastname\", \"age\", \"review\"), (\"William\", \"Smith\", \"33\", \"2\"), \"20230302\")\n",
    "]"
   ]
  },
  {
   "cell_type": "code",
   "execution_count": 10,
   "metadata": {},
   "outputs": [],
   "source": [
    "# Defining schema\n",
    "schema = StructType([\n",
    "    StructField(\"id\", StringType(), nullable=False),\n",
    "    StructField(\"fields_research\", StructType([\n",
    "        StructField(\"firstname\", StringType(), nullable=False),\n",
    "        StructField(\"lastname\", StringType(), nullable=False),\n",
    "        StructField(\"age\", StringType(), nullable=False),\n",
    "        StructField(\"review\", StringType(), nullable=False)\n",
    "    ])),\n",
    "    StructField(\"answers_research\", StructType([\n",
    "        StructField(\"firstname\", StringType(), nullable=True),\n",
    "        StructField(\"lastname\", StringType(), nullable=True),\n",
    "        StructField(\"age\", StringType(), nullable=True),\n",
    "        StructField(\"review\", StringType(), nullable=False)\n",
    "    ])),\n",
    "    StructField(\"partition\", StringType(), nullable=False)\n",
    "])"
   ]
  },
  {
   "cell_type": "code",
   "execution_count": 11,
   "metadata": {},
   "outputs": [],
   "source": [
    "# Creating DataFrame\n",
    "df = spark.createDataFrame(data=data, schema=schema)"
   ]
  },
  {
   "cell_type": "code",
   "execution_count": 12,
   "metadata": {},
   "outputs": [
    {
     "name": "stdout",
     "output_type": "stream",
     "text": [
      "root\n",
      " |-- id: string (nullable = false)\n",
      " |-- fields_research: struct (nullable = true)\n",
      " |    |-- firstname: string (nullable = false)\n",
      " |    |-- lastname: string (nullable = false)\n",
      " |    |-- age: string (nullable = false)\n",
      " |    |-- review: string (nullable = false)\n",
      " |-- answers_research: struct (nullable = true)\n",
      " |    |-- firstname: string (nullable = true)\n",
      " |    |-- lastname: string (nullable = true)\n",
      " |    |-- age: string (nullable = true)\n",
      " |    |-- review: string (nullable = false)\n",
      " |-- partition: string (nullable = false)\n",
      "\n",
      "+------+-----------------------------+-------------------------+---------+\n",
      "|id    |fields_research              |answers_research         |partition|\n",
      "+------+-----------------------------+-------------------------+---------+\n",
      "|123456|{name, lastname, age, review}|{James, Smith, 28, 7}    |20230523 |\n",
      "|123456|{name, lastname, age, review}|{Robert, Williams, 32, 5}|20230401 |\n",
      "|123456|{name, lastname, age, review}|{Maria, Anne, 25, 9}     |20230215 |\n",
      "|123457|{name, lastname, age, review}|{Jen, , 40, 4}           |20230122 |\n",
      "|123458|{name, lastname, age, review}|{Michael, Jones, , 8}    |20230517 |\n",
      "|123458|{name, lastname, age, review}|{William, Smith, 33, 2}  |20230302 |\n",
      "+------+-----------------------------+-------------------------+---------+\n",
      "\n"
     ]
    }
   ],
   "source": [
    "# Show DataFrame\n",
    "df.printSchema()\n",
    "df.show(truncate=False)"
   ]
  },
  {
   "cell_type": "code",
   "execution_count": null,
   "metadata": {},
   "outputs": [],
   "source": []
  },
  {
   "cell_type": "code",
   "execution_count": null,
   "metadata": {},
   "outputs": [],
   "source": []
  }
 ],
 "metadata": {
  "kernelspec": {
   "display_name": "Python 3",
   "language": "python",
   "name": "python3"
  },
  "language_info": {
   "codemirror_mode": {
    "name": "ipython",
    "version": 3
   },
   "file_extension": ".py",
   "mimetype": "text/x-python",
   "name": "python",
   "nbconvert_exporter": "python",
   "pygments_lexer": "ipython3",
   "version": "3.10.7"
  },
  "orig_nbformat": 4
 },
 "nbformat": 4,
 "nbformat_minor": 2
}
